{
 "cells": [
  {
   "cell_type": "code",
   "execution_count": 2,
   "id": "863d64af",
   "metadata": {},
   "outputs": [],
   "source": [
    "import numpy as np \n",
    "import pandas as pd\n",
    "import gradio as gr\n",
    "import matplotlib.pyplot as plt\n",
    "import seaborn as sns\n",
    "import os\n",
    "from sklearn.preprocessing import MinMaxScaler\n",
    "import tensorflow as tf\n",
    "from keras.models import Sequential\n",
    "from keras.layers import Dense\n",
    "from keras.layers import Dropout\n",
    "from keras.layers import Flatten\n",
    "from keras.layers.convolutional import Conv2D\n",
    "from keras.layers.convolutional import MaxPooling2D\n",
    "from keras import backend as K\n",
    "from keras.utils import np_utils\n",
    "from sklearn.model_selection import train_test_split\n",
    "from sklearn.metrics import confusion_matrix\n",
    "\n",
    "#ignore warning messages \n",
    "import warnings\n",
    "warnings.filterwarnings('ignore') \n",
    "\n",
    "sns.set()"
   ]
  },
  {
   "cell_type": "code",
   "execution_count": 2,
   "id": "d146ec17",
   "metadata": {},
   "outputs": [],
   "source": [
    "dataset_char = pd.read_csv(\"A_Z Handwritten Data/A_Z Handwritten Data.csv\").astype('float32')\n",
    "# dataset_char = pd.read_csv(\"A_Z Handwritten Data/A_Z Handwritten Data.csv\")\n",
    "\n",
    "dataset_char.rename(columns={'0':'label'}, inplace=True)\n",
    "#Splite data the X - Our data , and y - the prdict label\n",
    "X_char = dataset_char.drop('label',axis = 1)\n",
    "y_char = dataset_char['label']"
   ]
  },
  {
   "cell_type": "code",
   "execution_count": 3,
   "id": "be55954c",
   "metadata": {},
   "outputs": [],
   "source": [
    "dataset_digit = pd.read_csv(\"mnist/mnist_frame.csv\").astype('float32')\n",
    "# dataset_digit = pd.read_csv(\"mnist/mnist_frame.csv\")\n",
    "\n",
    "dataset_digit.rename(columns={'0':'class'}, inplace=True)\n",
    "#Splite data the X - Our data , and y - the prdict label\n",
    "X_digit = dataset_digit.drop('class',axis = 1)\n",
    "y_digit = dataset_digit['class']"
   ]
  },
  {
   "cell_type": "code",
   "execution_count": 4,
   "id": "be709715",
   "metadata": {},
   "outputs": [],
   "source": [
    "X_train_char, X_test_char, y_train_char, y_test_char = train_test_split(X_char,y_char)\n",
    "\n",
    "# scale data\n",
    "# standard_scaler = MinMaxScaler()\n",
    "# standard_scaler.fit(X_train_char)\n",
    "\n",
    "# Convert training labels from numeric to characters\n",
    "y_train_chars = y_train_char+10\n",
    "\n",
    "# Convert test labels from numeric to characters\n",
    "y_test_chars = y_test_char+10\n",
    "# print(y_train_chars)\n",
    "\n",
    "# X_train_char = standard_scaler.transform(X_train_char)\n",
    "# X_test_char = standard_scaler.transform(X_test_char)"
   ]
  },
  {
   "cell_type": "code",
   "execution_count": 5,
   "id": "6888db96",
   "metadata": {},
   "outputs": [],
   "source": [
    "X_train_digit, X_test_digit, y_train_digit, y_test_digit = X_digit[:60000],X_digit[60000:],y_digit[:60000],y_digit[60000:]\n",
    "# scale data\n",
    "# standard_scaler = MinMaxScaler()\n",
    "# standard_scaler.fit(X_train_digit)\n",
    "\n",
    "# X_train_digit = standard_scaler.transform(X_train_digit)\n",
    "# X_test_digit = standard_scaler.transform(X_test_digit)"
   ]
  },
  {
   "cell_type": "code",
   "execution_count": 6,
   "id": "c143b644",
   "metadata": {},
   "outputs": [],
   "source": [
    "X_train_char = X_train_char / 255.0\n",
    "X_test_char = X_test_char / 255.0\n",
    "X_train_digit = X_train_digit / 255.0\n",
    "X_test_digit = X_test_digit / 255.0\n"
   ]
  },
  {
   "cell_type": "code",
   "execution_count": 7,
   "id": "1c939aed",
   "metadata": {},
   "outputs": [],
   "source": [
    "X_train=np.vstack((X_train_char,X_train_digit))\n",
    "X_test=np.vstack((X_test_char,X_test_digit))\n",
    "y_train=np.hstack((y_train_chars,y_train_digit))\n",
    "y_test=np.hstack((y_test_chars,y_test_digit))\n",
    "y=pd.Series(np.hstack((y_train,y_test)))"
   ]
  },
  {
   "cell_type": "code",
   "execution_count": 8,
   "id": "998674b3",
   "metadata": {},
   "outputs": [
    {
     "data": {
      "text/plain": [
       "(339337, 784)"
      ]
     },
     "execution_count": 8,
     "metadata": {},
     "output_type": "execute_result"
    }
   ],
   "source": [
    "X_train.shape"
   ]
  },
  {
   "cell_type": "code",
   "execution_count": 9,
   "id": "04c82925",
   "metadata": {},
   "outputs": [],
   "source": [
    "train_indices = np.random.permutation(len(X_train))\n",
    "train_features = X_train[train_indices]\n",
    "train_labels = y_train[train_indices]\n",
    "\n",
    "# Shuffle the test data\n",
    "test_indices = np.random.permutation(len(X_test))\n",
    "test_features = X_test[test_indices]\n",
    "test_labels = y_test[test_indices]\n"
   ]
  },
  {
   "cell_type": "code",
   "execution_count": 10,
   "id": "cc0b3c92",
   "metadata": {},
   "outputs": [
    {
     "name": "stdout",
     "output_type": "stream",
     "text": [
      "[[0. 0. 0. ... 0. 0. 0.]\n",
      " [0. 0. 0. ... 0. 0. 0.]\n",
      " [0. 0. 0. ... 0. 0. 0.]\n",
      " ...\n",
      " [0. 0. 0. ... 0. 0. 0.]\n",
      " [0. 0. 0. ... 0. 0. 0.]\n",
      " [0. 0. 0. ... 0. 0. 0.]]\n"
     ]
    }
   ],
   "source": [
    "print(train_features)"
   ]
  },
  {
   "cell_type": "code",
   "execution_count": 11,
   "id": "a2412b50",
   "metadata": {},
   "outputs": [
    {
     "data": {
      "text/plain": [
       "(339337,)"
      ]
     },
     "execution_count": 11,
     "metadata": {},
     "output_type": "execute_result"
    }
   ],
   "source": [
    "train_features.shape\n",
    "train_labels.shape"
   ]
  },
  {
   "cell_type": "code",
   "execution_count": 12,
   "id": "03f943c7",
   "metadata": {},
   "outputs": [],
   "source": [
    "# x=pd.DataFrame(train_features)\n",
    "# y=train_labels\n",
    "# plt.figure(figsize=(7,7))\n",
    "# idx=5651\n",
    "\n",
    "# grid_data = x.iloc[idx].values.reshape(28,28)\n",
    "# plt.imshow(grid_data,interpolation=\"none\",cmap=\"gray\")\n",
    "# plt.show()\n",
    "\n",
    "# print(y[idx])"
   ]
  },
  {
   "cell_type": "code",
   "execution_count": 13,
   "id": "f1245782",
   "metadata": {},
   "outputs": [],
   "source": [
    "# from sklearn.utils import shuffle\n",
    "# x=pd.DataFrame(train_features)\n",
    "# X_shuffle = shuffle(x)\n",
    "\n",
    "# plt.figure(figsize = (12,10))\n",
    "# row, colums = 4, 4\n",
    "# for i in range(16):  \n",
    "#     plt.subplot(colums, row, i+1)\n",
    "#     plt.imshow(X_shuffle.iloc[i].values.reshape(28,28),interpolation='nearest', cmap='Greys')\n",
    "# plt.show()"
   ]
  },
  {
   "cell_type": "code",
   "execution_count": 14,
   "id": "f9e40299",
   "metadata": {},
   "outputs": [],
   "source": [
    "train_features = train_features.reshape(train_features.shape[0], 28, 28, 1).astype('float32')\n",
    "test_features = test_features.reshape(test_features.shape[0], 28, 28, 1).astype('float32')\n",
    "\n",
    "train_labels = np_utils.to_categorical(train_labels)\n",
    "test_labels = np_utils.to_categorical(test_labels)"
   ]
  },
  {
   "cell_type": "code",
   "execution_count": 15,
   "id": "25c2a13b",
   "metadata": {},
   "outputs": [
    {
     "name": "stdout",
     "output_type": "stream",
     "text": [
      "Epoch 1/18\n",
      "1697/1697 - 94s - loss: 0.2983 - accuracy: 0.9176 - val_loss: 0.1247 - val_accuracy: 0.9660 - 94s/epoch - 55ms/step\n",
      "Epoch 2/18\n",
      "1697/1697 - 93s - loss: 0.1297 - accuracy: 0.9623 - val_loss: 0.0962 - val_accuracy: 0.9739 - 93s/epoch - 55ms/step\n",
      "Epoch 3/18\n",
      "1697/1697 - 90s - loss: 0.1008 - accuracy: 0.9703 - val_loss: 0.0766 - val_accuracy: 0.9793 - 90s/epoch - 53ms/step\n",
      "Epoch 4/18\n",
      "1697/1697 - 90s - loss: 0.0845 - accuracy: 0.9747 - val_loss: 0.0758 - val_accuracy: 0.9794 - 90s/epoch - 53ms/step\n",
      "Epoch 5/18\n",
      "1697/1697 - 90s - loss: 0.0735 - accuracy: 0.9777 - val_loss: 0.0649 - val_accuracy: 0.9822 - 90s/epoch - 53ms/step\n",
      "Epoch 6/18\n",
      "1697/1697 - 90s - loss: 0.0642 - accuracy: 0.9801 - val_loss: 0.0581 - val_accuracy: 0.9840 - 90s/epoch - 53ms/step\n",
      "Epoch 7/18\n",
      "1697/1697 - 89s - loss: 0.0564 - accuracy: 0.9820 - val_loss: 0.0565 - val_accuracy: 0.9846 - 89s/epoch - 53ms/step\n",
      "Epoch 8/18\n",
      "1697/1697 - 89s - loss: 0.0503 - accuracy: 0.9837 - val_loss: 0.0543 - val_accuracy: 0.9849 - 89s/epoch - 53ms/step\n",
      "Epoch 9/18\n",
      "1697/1697 - 90s - loss: 0.0460 - accuracy: 0.9851 - val_loss: 0.0497 - val_accuracy: 0.9866 - 90s/epoch - 53ms/step\n",
      "Epoch 10/18\n",
      "1697/1697 - 89s - loss: 0.0420 - accuracy: 0.9863 - val_loss: 0.0508 - val_accuracy: 0.9865 - 89s/epoch - 53ms/step\n",
      "Epoch 11/18\n",
      "1697/1697 - 92s - loss: 0.0392 - accuracy: 0.9869 - val_loss: 0.0472 - val_accuracy: 0.9874 - 92s/epoch - 54ms/step\n",
      "Epoch 12/18\n",
      "1697/1697 - 94s - loss: 0.0362 - accuracy: 0.9878 - val_loss: 0.0454 - val_accuracy: 0.9883 - 94s/epoch - 55ms/step\n",
      "Epoch 13/18\n",
      "1697/1697 - 91s - loss: 0.0329 - accuracy: 0.9890 - val_loss: 0.0467 - val_accuracy: 0.9875 - 91s/epoch - 54ms/step\n",
      "Epoch 14/18\n",
      "1697/1697 - 94s - loss: 0.0310 - accuracy: 0.9895 - val_loss: 0.0465 - val_accuracy: 0.9888 - 94s/epoch - 55ms/step\n",
      "Epoch 15/18\n",
      "1697/1697 - 93s - loss: 0.0291 - accuracy: 0.9901 - val_loss: 0.0456 - val_accuracy: 0.9889 - 93s/epoch - 55ms/step\n",
      "Epoch 16/18\n",
      "1697/1697 - 94s - loss: 0.0279 - accuracy: 0.9906 - val_loss: 0.0449 - val_accuracy: 0.9896 - 94s/epoch - 55ms/step\n",
      "Epoch 17/18\n",
      "1697/1697 - 91s - loss: 0.0266 - accuracy: 0.9909 - val_loss: 0.0451 - val_accuracy: 0.9892 - 91s/epoch - 53ms/step\n",
      "Epoch 18/18\n",
      "1697/1697 - 93s - loss: 0.0254 - accuracy: 0.9911 - val_loss: 0.0467 - val_accuracy: 0.9892 - 93s/epoch - 55ms/step\n",
      "CNN Score: 0.9892060160636902\n"
     ]
    }
   ],
   "source": [
    "cls = Sequential()\n",
    "cls.add(Conv2D(32, (5, 5), input_shape=(28, 28, 1), activation='relu'))\n",
    "cls.add(MaxPooling2D(pool_size=(2, 2)))\n",
    "cls.add(Dropout(0.3))\n",
    "cls.add(Flatten())\n",
    "cls.add(Dense(128, activation='relu'))\n",
    "cls.add(Dense(len(y.unique()), activation='softmax'))\n",
    "\n",
    "cls.compile(loss='categorical_crossentropy', optimizer='adam', metrics=['accuracy'])\n",
    "history = cls.fit(train_features, train_labels, validation_data=(test_features, test_labels), epochs=18, batch_size=200, verbose=2)\n",
    "0\n",
    "scores = cls.evaluate(test_features,test_labels, verbose=0)\n",
    "print(\"CNN Score:\",scores[1])"
   ]
  },
  {
   "cell_type": "code",
   "execution_count": 16,
   "id": "a3073bb8",
   "metadata": {},
   "outputs": [],
   "source": [
    "# Save the trained model\n",
    "cls.save(\"digit_char_model.h5\")"
   ]
  },
  {
   "cell_type": "code",
   "execution_count": 1,
   "id": "ba70dd19",
   "metadata": {},
   "outputs": [],
   "source": [
    "from tensorflow.keras.models import load_model\n",
    "\n",
    "# Load the saved model\n",
    "model = load_model(\"digit_char_model.h5\")\n"
   ]
  },
  {
   "cell_type": "code",
   "execution_count": 3,
   "id": "9bb91af3",
   "metadata": {},
   "outputs": [],
   "source": [
    "# def predict(image):\n",
    "#     image = image.reshape(-1, 28, 28, 1)\n",
    "#     im_resize=image/255.0\n",
    "#     prediction = model.predict(im_resize)[0]\n",
    "#     return {str(i): float(prediction[i]) for i in range(len(prediction))}\n",
    "\n",
    "def predict(image):\n",
    "    image = image.reshape(-1, 28, 28, 1)\n",
    "    im_resize=image/255.0\n",
    "    prediction = model.predict(im_resize)[0]\n",
    "    \n",
    "    if np.argmax(prediction) < 10:\n",
    "        label = str(np.argmax(prediction))\n",
    "    else:\n",
    "        label = chr(ord('A') + np.argmax(prediction) - 10)\n",
    "    \n",
    "    return label\n",
    "\n"
   ]
  },
  {
   "cell_type": "code",
   "execution_count": 46,
   "id": "38509701",
   "metadata": {},
   "outputs": [],
   "source": [
    "# def predict(image):\n",
    "#     image = image.reshape(-1, 28, 28, 1)\n",
    "#     im_resize=image/255.0\n",
    "#     prediction = cls.predict(im_resize)[0]\n",
    "#     return {str(i): float(prediction[i]) for i in range(len(prediction))}"
   ]
  },
  {
   "cell_type": "code",
   "execution_count": 4,
   "id": "5e51e5fe",
   "metadata": {},
   "outputs": [],
   "source": [
    "# iface = gr.Interface(fn=predict, inputs=\"sketchpad\", outputs=gr.outputs.Label(num_top_classes=len(y.unique())))\n",
    "iface = gr.Interface(predict,inputs='sketchpad',outputs='label')"
   ]
  },
  {
   "cell_type": "code",
   "execution_count": 5,
   "id": "3afbc659",
   "metadata": {
    "scrolled": false
   },
   "outputs": [
    {
     "name": "stdout",
     "output_type": "stream",
     "text": [
      "Running on local URL:  http://127.0.0.1:7860\n",
      "\n",
      "To create a public link, set `share=True` in `launch()`.\n"
     ]
    },
    {
     "data": {
      "text/html": [
       "<div><iframe src=\"http://127.0.0.1:7860/\" width=\"100%\" height=\"500\" allow=\"autoplay; camera; microphone; clipboard-read; clipboard-write;\" frameborder=\"0\" allowfullscreen></iframe></div>"
      ],
      "text/plain": [
       "<IPython.core.display.HTML object>"
      ]
     },
     "metadata": {},
     "output_type": "display_data"
    },
    {
     "name": "stdout",
     "output_type": "stream",
     "text": [
      "1/1 [==============================] - 1s 852ms/step\n",
      "1/1 [==============================] - 0s 41ms/step\n",
      "1/1 [==============================] - 0s 49ms/step\n",
      "1/1 [==============================] - 0s 63ms/step\n",
      "1/1 [==============================] - 0s 48ms/step\n",
      "1/1 [==============================] - 0s 47ms/step\n",
      "1/1 [==============================] - 0s 51ms/step\n",
      "1/1 [==============================] - 0s 46ms/step\n",
      "1/1 [==============================] - 0s 51ms/step\n",
      "1/1 [==============================] - 0s 48ms/step\n",
      "1/1 [==============================] - 0s 47ms/step\n",
      "1/1 [==============================] - 0s 63ms/step\n",
      "1/1 [==============================] - 0s 49ms/step\n",
      "1/1 [==============================] - 0s 47ms/step\n",
      "1/1 [==============================] - 0s 62ms/step\n",
      "1/1 [==============================] - 0s 46ms/step\n",
      "1/1 [==============================] - 0s 52ms/step\n",
      "1/1 [==============================] - 0s 47ms/step\n",
      "1/1 [==============================] - 0s 47ms/step\n",
      "1/1 [==============================] - 0s 67ms/step\n",
      "1/1 [==============================] - 0s 47ms/step\n",
      "1/1 [==============================] - 0s 63ms/step\n",
      "1/1 [==============================] - 0s 47ms/step\n",
      "1/1 [==============================] - 0s 47ms/step\n",
      "1/1 [==============================] - 0s 47ms/step\n",
      "1/1 [==============================] - 0s 64ms/step\n",
      "1/1 [==============================] - 0s 48ms/step\n",
      "1/1 [==============================] - 0s 47ms/step\n",
      "1/1 [==============================] - 0s 63ms/step\n",
      "1/1 [==============================] - 0s 64ms/step\n",
      "1/1 [==============================] - 0s 36ms/step\n",
      "1/1 [==============================] - 0s 53ms/step\n",
      "1/1 [==============================] - 0s 47ms/step\n",
      "1/1 [==============================] - 0s 48ms/step\n",
      "1/1 [==============================] - 0s 62ms/step\n",
      "1/1 [==============================] - 0s 41ms/step\n",
      "1/1 [==============================] - 0s 47ms/step\n",
      "1/1 [==============================] - 0s 47ms/step\n",
      "1/1 [==============================] - 1s 617ms/step\n",
      "1/1 [==============================] - 0s 58ms/step\n",
      "1/1 [==============================] - 0s 34ms/step\n",
      "Keyboard interruption in main thread... closing server.\n"
     ]
    },
    {
     "data": {
      "text/plain": []
     },
     "execution_count": 5,
     "metadata": {},
     "output_type": "execute_result"
    }
   ],
   "source": [
    "iface.launch(debug=True)"
   ]
  },
  {
   "cell_type": "code",
   "execution_count": null,
   "id": "4d9b8cfd",
   "metadata": {},
   "outputs": [],
   "source": []
  }
 ],
 "metadata": {
  "kernelspec": {
   "display_name": "Python 3 (ipykernel)",
   "language": "python",
   "name": "python3"
  },
  "language_info": {
   "codemirror_mode": {
    "name": "ipython",
    "version": 3
   },
   "file_extension": ".py",
   "mimetype": "text/x-python",
   "name": "python",
   "nbconvert_exporter": "python",
   "pygments_lexer": "ipython3",
   "version": "3.9.13"
  }
 },
 "nbformat": 4,
 "nbformat_minor": 5
}
